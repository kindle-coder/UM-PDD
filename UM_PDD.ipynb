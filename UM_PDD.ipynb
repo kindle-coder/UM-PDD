{
  "nbformat": 4,
  "nbformat_minor": 0,
  "metadata": {
    "colab": {
      "name": "UM-PDD.ipynb",
      "provenance": [],
      "collapsed_sections": [],
      "authorship_tag": "ABX9TyNaZBJ3vPl0THfMbfeAYihL",
      "include_colab_link": true
    },
    "kernelspec": {
      "name": "python3",
      "display_name": "Python 3"
    },
    "language_info": {
      "name": "python"
    },
    "accelerator": "GPU"
  },
  "cells": [
    {
      "cell_type": "markdown",
      "metadata": {
        "id": "view-in-github",
        "colab_type": "text"
      },
      "source": [
        "<a href=\"https://colab.research.google.com/github/platonic-realm/UM-PDD/blob/main/UM_PDD.ipynb\" target=\"_parent\"><img src=\"https://colab.research.google.com/assets/colab-badge.svg\" alt=\"Open In Colab\"/></a>"
      ]
    },
    {
      "cell_type": "markdown",
      "metadata": {
        "id": "tfnPUqqMEOf2"
      },
      "source": [
        "Mounting google drive to act as storage device"
      ]
    },
    {
      "cell_type": "code",
      "metadata": {
        "colab": {
          "base_uri": "https://localhost:8080/"
        },
        "id": "rBWVqFBmEO8Q",
        "outputId": "74ab4ccd-7c29-48c7-cc4f-eefaad260644"
      },
      "source": [
        "from google.colab import drive\n",
        "drive.mount('/content/drive')"
      ],
      "execution_count": null,
      "outputs": [
        {
          "output_type": "stream",
          "text": [
            "Drive already mounted at /content/drive; to attempt to forcibly remount, call drive.mount(\"/content/drive\", force_remount=True).\n"
          ],
          "name": "stdout"
        }
      ]
    },
    {
      "cell_type": "markdown",
      "metadata": {
        "id": "-4PdqoFnD9iB"
      },
      "source": [
        "Downloading the project using Git\n"
      ]
    },
    {
      "cell_type": "code",
      "metadata": {
        "id": "0B4TkjMCQhIx"
      },
      "source": [
        "!rm -rf ./UM-PDD/"
      ],
      "execution_count": null,
      "outputs": []
    },
    {
      "cell_type": "code",
      "metadata": {
        "colab": {
          "base_uri": "https://localhost:8080/"
        },
        "id": "t91OdgCDDxz4",
        "outputId": "da5f7759-2ddc-4978-9e2d-e34429591a6f"
      },
      "source": [
        "!git clone https://github.com/platonic-realm/UM-PDD"
      ],
      "execution_count": null,
      "outputs": [
        {
          "output_type": "stream",
          "text": [
            "Cloning into 'UM-PDD'...\n",
            "remote: Enumerating objects: 103, done.\u001b[K\n",
            "remote: Counting objects: 100% (103/103), done.\u001b[K\n",
            "remote: Compressing objects: 100% (75/75), done.\u001b[K\n",
            "remote: Total 103 (delta 59), reused 66 (delta 26), pack-reused 0\u001b[K\n",
            "Receiving objects: 100% (103/103), 16.63 KiB | 8.32 MiB/s, done.\n",
            "Resolving deltas: 100% (59/59), done.\n"
          ],
          "name": "stdout"
        }
      ]
    },
    {
      "cell_type": "code",
      "metadata": {
        "id": "fQY2tN15EI0j"
      },
      "source": [
        "!python ./UM-PDD/main.py user=Arash accel=GPU envi=colab \n"
      ],
      "execution_count": null,
      "outputs": []
    }
  ]
}