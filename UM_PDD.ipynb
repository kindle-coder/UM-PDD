{
  "nbformat": 4,
  "nbformat_minor": 0,
  "metadata": {
    "colab": {
      "name": "UM-PDD.ipynb",
      "provenance": [],
      "collapsed_sections": [],
      "authorship_tag": "ABX9TyOKh2a1l94nelPjuQ0sYAc9",
      "include_colab_link": true
    },
    "kernelspec": {
      "name": "python3",
      "display_name": "Python 3"
    },
    "language_info": {
      "name": "python"
    },
    "accelerator": "GPU"
  },
  "cells": [
    {
      "cell_type": "markdown",
      "metadata": {
        "id": "view-in-github",
        "colab_type": "text"
      },
      "source": [
        "<a href=\"https://colab.research.google.com/github/platonic-realm/UM-PDD/blob/main/UM_PDD.ipynb\" target=\"_parent\"><img src=\"https://colab.research.google.com/assets/colab-badge.svg\" alt=\"Open In Colab\"/></a>"
      ]
    },
    {
      "cell_type": "markdown",
      "metadata": {
        "id": "gONQnMfDScaj"
      },
      "source": [
        "Optional query of VM specifications"
      ]
    },
    {
      "cell_type": "code",
      "metadata": {
        "id": "IBSYQfXwSTfF"
      },
      "source": [
        "gpu_info = !nvidia-smi\n",
        "gpu_info = '\\n'.join(gpu_info)\n",
        "if gpu_info.find('failed') >= 0:\n",
        "  print('Select the Runtime > \"Change runtime type\" menu to enable a GPU accelerator')\n",
        "else:\n",
        "  print(gpu_info)\n",
        "\n",
        "from psutil import virtual_memory\n",
        "ram_gb = virtual_memory().total / 1e9\n",
        "print('Runtime has {:.1f} gigabytes of available RAM\\n'.format(ram_gb))"
      ],
      "execution_count": null,
      "outputs": []
    },
    {
      "cell_type": "code",
      "metadata": {
        "id": "ga846F7mpdwC"
      },
      "source": [
        "import tensorflow as tf\n",
        "\n",
        "print(tf.__version__)"
      ],
      "execution_count": null,
      "outputs": []
    },
    {
      "cell_type": "markdown",
      "metadata": {
        "id": "tfnPUqqMEOf2"
      },
      "source": [
        "Mounting google drive to act as storage device"
      ]
    },
    {
      "cell_type": "code",
      "metadata": {
        "id": "rBWVqFBmEO8Q"
      },
      "source": [
        "from google.colab import drive\n",
        "drive.mount('/content/drive')"
      ],
      "execution_count": null,
      "outputs": []
    },
    {
      "cell_type": "markdown",
      "metadata": {
        "id": "QnjUS5dduwkk"
      },
      "source": [
        "In case of using TPUs, we should copy the dataset to local VM"
      ]
    },
    {
      "cell_type": "code",
      "metadata": {
        "id": "OA-JFRSsuv9t"
      },
      "source": [
        "!cp /content/drive/MyDrive/Share/UM-PDD/dataset.zip .\n",
        "!unzip dataset.zip"
      ],
      "execution_count": null,
      "outputs": []
    },
    {
      "cell_type": "markdown",
      "metadata": {
        "id": "-4PdqoFnD9iB"
      },
      "source": [
        "Downloading the project using Git\n"
      ]
    },
    {
      "cell_type": "code",
      "metadata": {
        "id": "0B4TkjMCQhIx"
      },
      "source": [
        "!rm -rf ./UM-PDD/"
      ],
      "execution_count": null,
      "outputs": []
    },
    {
      "cell_type": "code",
      "metadata": {
        "id": "t91OdgCDDxz4"
      },
      "source": [
        "!git clone https://github.com/platonic-realm/UM-PDD"
      ],
      "execution_count": null,
      "outputs": []
    },
    {
      "cell_type": "code",
      "metadata": {
        "id": "fQY2tN15EI0j"
      },
      "source": [
        "!python ./UM-PDD/main.py user=Arash accel=GPU envi=colab batch=128 save_interval=3 eager=true model_sum=false\n"
      ],
      "execution_count": null,
      "outputs": []
    },
    {
      "cell_type": "markdown",
      "metadata": {
        "id": "I0mRUWVtJUOj"
      },
      "source": [
        "Loading Tensorboard:\n",
        "\n",
        "\n"
      ]
    },
    {
      "cell_type": "code",
      "metadata": {
        "id": "Ct4bMJKmJTfJ"
      },
      "source": [
        "%load_ext tensorboard\n",
        "%tensorboard --logdir /content/drive/MyDrive/Share/UM-PDD/results/tensorboard/"
      ],
      "execution_count": null,
      "outputs": []
    }
  ]
}