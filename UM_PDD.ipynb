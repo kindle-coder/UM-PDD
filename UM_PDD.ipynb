{
  "nbformat": 4,
  "nbformat_minor": 0,
  "metadata": {
    "colab": {
      "name": "UM-PDD.ipynb",
      "provenance": [],
      "collapsed_sections": [],
      "authorship_tag": "ABX9TyNaZBJ3vPl0THfMbfeAYihL",
      "include_colab_link": true
    },
    "kernelspec": {
      "name": "python3",
      "display_name": "Python 3"
    },
    "language_info": {
      "name": "python"
    },
    "accelerator": "GPU"
  },
  "cells": [
    {
      "cell_type": "markdown",
      "metadata": {
        "id": "view-in-github",
        "colab_type": "text"
      },
      "source": [
        "<a href=\"https://colab.research.google.com/github/platonic-realm/UM-PDD/blob/main/UM_PDD.ipynb\" target=\"_parent\"><img src=\"https://colab.research.google.com/assets/colab-badge.svg\" alt=\"Open In Colab\"/></a>"
      ]
    },
    {
      "cell_type": "markdown",
      "metadata": {
        "id": "tfnPUqqMEOf2"
      },
      "source": [
        "Mounting google drive to act as storage device"
      ]
    },
    {
      "cell_type": "code",
      "metadata": {
        "colab": {
          "base_uri": "https://localhost:8080/"
        },
        "id": "rBWVqFBmEO8Q",
        "outputId": "74ab4ccd-7c29-48c7-cc4f-eefaad260644"
      },
      "source": [
        "from google.colab import drive\n",
        "drive.mount('/content/drive')"
      ],
      "execution_count": 19,
      "outputs": [
        {
          "output_type": "stream",
          "text": [
            "Drive already mounted at /content/drive; to attempt to forcibly remount, call drive.mount(\"/content/drive\", force_remount=True).\n"
          ],
          "name": "stdout"
        }
      ]
    },
    {
      "cell_type": "markdown",
      "metadata": {
        "id": "-4PdqoFnD9iB"
      },
      "source": [
        "Downloading the project using Git\n"
      ]
    },
    {
      "cell_type": "code",
      "metadata": {
        "id": "0B4TkjMCQhIx"
      },
      "source": [
        "!rm -rf ./UM-PDD/"
      ],
      "execution_count": 34,
      "outputs": []
    },
    {
      "cell_type": "code",
      "metadata": {
        "colab": {
          "base_uri": "https://localhost:8080/"
        },
        "id": "t91OdgCDDxz4",
        "outputId": "da5f7759-2ddc-4978-9e2d-e34429591a6f"
      },
      "source": [
        "!git clone https://github.com/platonic-realm/UM-PDD"
      ],
      "execution_count": 35,
      "outputs": [
        {
          "output_type": "stream",
          "text": [
            "Cloning into 'UM-PDD'...\n",
            "remote: Enumerating objects: 103, done.\u001b[K\n",
            "remote: Counting objects: 100% (103/103), done.\u001b[K\n",
            "remote: Compressing objects: 100% (75/75), done.\u001b[K\n",
            "remote: Total 103 (delta 59), reused 66 (delta 26), pack-reused 0\u001b[K\n",
            "Receiving objects: 100% (103/103), 16.63 KiB | 8.32 MiB/s, done.\n",
            "Resolving deltas: 100% (59/59), done.\n"
          ],
          "name": "stdout"
        }
      ]
    },
    {
      "cell_type": "code",
      "metadata": {
        "colab": {
          "base_uri": "https://localhost:8080/"
        },
        "id": "fQY2tN15EI0j",
        "outputId": "d29fa22a-5cb6-4d54-d194-e7599a469f6e"
      },
      "source": [
        "!python ./UM-PDD/main.py user=Arash accel=GPU envi=colab \n"
      ],
      "execution_count": 37,
      "outputs": [
        {
          "output_type": "stream",
          "text": [
            "User.Arash\n",
            "Environment.GoogleColab\n",
            "Accelerator.GPU\n",
            "Batch Size:  32\n",
            "Epochs:  10\n",
            "Supervised Sample Ratio:  0.01\n",
            "Found 70296 files belonging to 38 classes.\n",
            "Using 69594 files for training.\n",
            "Found 70296 files belonging to 38 classes.\n",
            "Using 702 files for validation.\n",
            "Found 17572 files belonging to 38 classes.\n",
            "/usr/local/lib/python3.7/dist-packages/tensorflow/python/keras/optimizer_v2/optimizer_v2.py:375: UserWarning: The `lr` argument is deprecated, use `learning_rate` instead.\n",
            "  \"The `lr` argument is deprecated, use `learning_rate` instead.\")\n",
            "Epoch-01:   0%|                              | 3/2175 [00:11<2:56:11,  4.87s/it]Traceback (most recent call last):\n",
            "  File \"./UM-PDD/main.py\", line 126, in <module>\n",
            "    latent_dim=latent_dim)\n",
            "  File \"/content/UM-PDD/SGAN/train.py\", line 82, in start_training\n",
            "    gan_loss = gan.train_on_batch(gan_input, gan_labels)\n",
            "  File \"/usr/local/lib/python3.7/dist-packages/tensorflow/python/keras/engine/training.py\", line 1828, in train_on_batch\n",
            "    self.reset_metrics()\n",
            "  File \"/usr/local/lib/python3.7/dist-packages/tensorflow/python/keras/engine/training.py\", line 1767, in reset_metrics\n",
            "    m.reset_state()\n",
            "  File \"/usr/local/lib/python3.7/dist-packages/tensorflow/python/keras/metrics.py\", line 260, in reset_state\n",
            "    backend.batch_set_value([(v, 0) for v in self.variables])\n",
            "  File \"/usr/local/lib/python3.7/dist-packages/tensorflow/python/util/dispatch.py\", line 206, in wrapper\n",
            "    return target(*args, **kwargs)\n",
            "  File \"/usr/local/lib/python3.7/dist-packages/tensorflow/python/keras/backend.py\", line 3804, in batch_set_value\n",
            "    x.assign(np.asarray(value, dtype=dtype_numpy(x)))\n",
            "  File \"/usr/local/lib/python3.7/dist-packages/tensorflow/python/ops/resource_variable_ops.py\", line 903, in assign\n",
            "    self.handle, value_tensor, name=name)\n",
            "  File \"/usr/local/lib/python3.7/dist-packages/tensorflow/python/ops/gen_resource_variable_ops.py\", line 142, in assign_variable_op\n",
            "    _ctx, \"AssignVariableOp\", name, resource, value)\n",
            "KeyboardInterrupt\n",
            "Epoch-01:   0%|                              | 3/2175 [00:13<2:43:42,  4.52s/it]\n"
          ],
          "name": "stdout"
        }
      ]
    }
  ]
}